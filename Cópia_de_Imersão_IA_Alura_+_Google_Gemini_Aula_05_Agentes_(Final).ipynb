{
  "nbformat": 4,
  "nbformat_minor": 0,
  "metadata": {
    "colab": {
      "provenance": [],
      "include_colab_link": true
    },
    "kernelspec": {
      "name": "python3",
      "display_name": "Python 3"
    },
    "language_info": {
      "name": "python"
    }
  },
  "cells": [
    {
      "cell_type": "markdown",
      "metadata": {
        "id": "view-in-github",
        "colab_type": "text"
      },
      "source": [
        "<a href=\"https://colab.research.google.com/github/Adriano-Medeiros/clientes_IA_Estudos_Agropecuarios/blob/main/C%C3%B3pia_de_Imers%C3%A3o_IA_Alura_%2B_Google_Gemini_Aula_05_Agentes_(Final).ipynb\" target=\"_parent\"><img src=\"https://colab.research.google.com/assets/colab-badge.svg\" alt=\"Open In Colab\"/></a>"
      ]
    },
    {
      "cell_type": "code",
      "source": [
        "%pip -q install google-genai"
      ],
      "metadata": {
        "id": "UCCbECexLk_h"
      },
      "execution_count": null,
      "outputs": []
    },
    {
      "cell_type": "code",
      "source": [
        "# Configura a API Key do Google Gemini\n",
        "\n",
        "import os\n",
        "from google.colab import userdata\n",
        "\n",
        "os.environ['GOOGLE_API_KEY'] = userdata.get('GOOGLE_API_KEY')"
      ],
      "metadata": {
        "id": "NfCqHo1tLk8P"
      },
      "execution_count": null,
      "outputs": []
    },
    {
      "cell_type": "code",
      "source": [
        "# Configura o cliente da SDK do Gemini\n",
        "\n",
        "from google import genai\n",
        "\n",
        "client = genai.Client()\n",
        "\n",
        "MODEL_ID = \"gemini-2.0-flash\""
      ],
      "metadata": {
        "id": "bV4w0H5TLk5g"
      },
      "execution_count": null,
      "outputs": []
    },
    {
      "cell_type": "code",
      "source": [
        "# Instalar Framework de agentes do Google ################################################\n",
        "!pip install -q google-adk"
      ],
      "metadata": {
        "colab": {
          "base_uri": "https://localhost:8080/"
        },
        "id": "a1eRPalxEnj7",
        "outputId": "be3b6e10-1fbb-4b39-dc75-c851d1c1e5db"
      },
      "execution_count": null,
      "outputs": [
        {
          "output_type": "stream",
          "name": "stdout",
          "text": [
            "\u001b[?25l   \u001b[90m━━━━━━━━━━━━━━━━━━━━━━━━━━━━━━━━━━━━━━━━\u001b[0m \u001b[32m0.0/1.2 MB\u001b[0m \u001b[31m?\u001b[0m eta \u001b[36m-:--:--\u001b[0m\r\u001b[2K   \u001b[91m━━━━━━━━━━━━━━━━━━━━━━━━━━━\u001b[0m\u001b[90m╺\u001b[0m\u001b[90m━━━━━━━━━━━━\u001b[0m \u001b[32m0.8/1.2 MB\u001b[0m \u001b[31m25.3 MB/s\u001b[0m eta \u001b[36m0:00:01\u001b[0m\r\u001b[2K   \u001b[90m━━━━━━━━━━━━━━━━━━━━━━━━━━━━━━━━━━━━━━━━\u001b[0m \u001b[32m1.2/1.2 MB\u001b[0m \u001b[31m18.8 MB/s\u001b[0m eta \u001b[36m0:00:00\u001b[0m\n",
            "\u001b[?25h\u001b[?25l   \u001b[90m━━━━━━━━━━━━━━━━━━━━━━━━━━━━━━━━━━━━━━━━\u001b[0m \u001b[32m0.0/232.1 kB\u001b[0m \u001b[31m?\u001b[0m eta \u001b[36m-:--:--\u001b[0m\r\u001b[2K   \u001b[90m━━━━━━━━━━━━━━━━━━━━━━━━━━━━━━━━━━━━━━━━\u001b[0m \u001b[32m232.1/232.1 kB\u001b[0m \u001b[31m14.1 MB/s\u001b[0m eta \u001b[36m0:00:00\u001b[0m\n",
            "\u001b[2K   \u001b[90m━━━━━━━━━━━━━━━━━━━━━━━━━━━━━━━━━━━━━━━━\u001b[0m \u001b[32m95.2/95.2 kB\u001b[0m \u001b[31m6.0 MB/s\u001b[0m eta \u001b[36m0:00:00\u001b[0m\n",
            "\u001b[2K   \u001b[90m━━━━━━━━━━━━━━━━━━━━━━━━━━━━━━━━━━━━━━━━\u001b[0m \u001b[32m217.1/217.1 kB\u001b[0m \u001b[31m13.1 MB/s\u001b[0m eta \u001b[36m0:00:00\u001b[0m\n",
            "\u001b[2K   \u001b[90m━━━━━━━━━━━━━━━━━━━━━━━━━━━━━━━━━━━━━━━━\u001b[0m \u001b[32m334.1/334.1 kB\u001b[0m \u001b[31m19.6 MB/s\u001b[0m eta \u001b[36m0:00:00\u001b[0m\n",
            "\u001b[2K   \u001b[90m━━━━━━━━━━━━━━━━━━━━━━━━━━━━━━━━━━━━━━━━\u001b[0m \u001b[32m125.1/125.1 kB\u001b[0m \u001b[31m5.3 MB/s\u001b[0m eta \u001b[36m0:00:00\u001b[0m\n",
            "\u001b[2K   \u001b[90m━━━━━━━━━━━━━━━━━━━━━━━━━━━━━━━━━━━━━━━━\u001b[0m \u001b[32m65.8/65.8 kB\u001b[0m \u001b[31m3.7 MB/s\u001b[0m eta \u001b[36m0:00:00\u001b[0m\n",
            "\u001b[2K   \u001b[90m━━━━━━━━━━━━━━━━━━━━━━━━━━━━━━━━━━━━━━━━\u001b[0m \u001b[32m119.0/119.0 kB\u001b[0m \u001b[31m7.1 MB/s\u001b[0m eta \u001b[36m0:00:00\u001b[0m\n",
            "\u001b[2K   \u001b[90m━━━━━━━━━━━━━━━━━━━━━━━━━━━━━━━━━━━━━━━━\u001b[0m \u001b[32m194.9/194.9 kB\u001b[0m \u001b[31m10.2 MB/s\u001b[0m eta \u001b[36m0:00:00\u001b[0m\n",
            "\u001b[2K   \u001b[90m━━━━━━━━━━━━━━━━━━━━━━━━━━━━━━━━━━━━━━━━\u001b[0m \u001b[32m62.5/62.5 kB\u001b[0m \u001b[31m3.7 MB/s\u001b[0m eta \u001b[36m0:00:00\u001b[0m\n",
            "\u001b[2K   \u001b[90m━━━━━━━━━━━━━━━━━━━━━━━━━━━━━━━━━━━━━━━━\u001b[0m \u001b[32m103.3/103.3 kB\u001b[0m \u001b[31m5.7 MB/s\u001b[0m eta \u001b[36m0:00:00\u001b[0m\n",
            "\u001b[2K   \u001b[90m━━━━━━━━━━━━━━━━━━━━━━━━━━━━━━━━━━━━━━━━\u001b[0m \u001b[32m44.4/44.4 kB\u001b[0m \u001b[31m1.9 MB/s\u001b[0m eta \u001b[36m0:00:00\u001b[0m\n",
            "\u001b[2K   \u001b[90m━━━━━━━━━━━━━━━━━━━━━━━━━━━━━━━━━━━━━━━━\u001b[0m \u001b[32m72.0/72.0 kB\u001b[0m \u001b[31m4.4 MB/s\u001b[0m eta \u001b[36m0:00:00\u001b[0m\n",
            "\u001b[?25h"
          ]
        }
      ]
    },
    {
      "cell_type": "code",
      "execution_count": null,
      "metadata": {
        "id": "aePV2bdfDeoW"
      },
      "outputs": [],
      "source": [
        "from google.adk.agents import Agent\n",
        "from google.adk.runners import Runner\n",
        "from google.adk.sessions import InMemorySessionService\n",
        "from google.adk.tools import google_search\n",
        "from google.genai import types  # Para criar conteúdos (Content e Part)\n",
        "from datetime import date\n",
        "import textwrap # Para formatar melhor a saída de texto\n",
        "from IPython.display import display, Markdown # Para exibir texto formatado no Colab\n",
        "import requests # Para fazer requisições HTTP\n",
        "import warnings\n",
        "\n",
        "warnings.filterwarnings(\"ignore\")"
      ]
    },
    {
      "cell_type": "code",
      "source": [
        "# Função auxiliar que envia uma mensagem para um agente via Runner e retorna a resposta final\n",
        "def call_agent(agent: Agent, message_text: str) -> str:\n",
        "    # Cria um serviço de sessão em memória\n",
        "    session_service = InMemorySessionService()\n",
        "    # Cria uma nova sessão (você pode personalizar os IDs conforme necessário)\n",
        "    session = session_service.create_session(app_name=agent.name, user_id=\"user1\", session_id=\"session1\")\n",
        "    # Cria um Runner para o agente\n",
        "    runner = Runner(agent=agent, app_name=agent.name, session_service=session_service)\n",
        "    # Cria o conteúdo da mensagem de entrada\n",
        "    content = types.Content(role=\"user\", parts=[types.Part(text=message_text)])\n",
        "\n",
        "    final_response = \"\"\n",
        "    # Itera assincronamente pelos eventos retornados durante a execução do agente\n",
        "    for event in runner.run(user_id=\"user1\", session_id=\"session1\", new_message=content):\n",
        "        if event.is_final_response():\n",
        "          for part in event.content.parts:\n",
        "            if part.text is not None:\n",
        "              final_response += part.text\n",
        "              final_response += \"\\n\"\n",
        "    return final_response"
      ],
      "metadata": {
        "id": "_xP4lWhsS5ko"
      },
      "execution_count": null,
      "outputs": []
    },
    {
      "cell_type": "code",
      "source": [
        "# Função auxiliar para exibir texto formatado em Markdown no Colab\n",
        "def to_markdown(text):\n",
        "  text = text.replace('•', '  *')\n",
        "  return Markdown(textwrap.indent(text, '> ', predicate=lambda _: True))"
      ],
      "metadata": {
        "id": "8dosiodaxfFR"
      },
      "execution_count": null,
      "outputs": []
    },
    {
      "cell_type": "code",
      "source": [
        "##########################################\n",
        "# --- Agente 1: Buscador de Notícias --- #\n",
        "##########################################\n",
        "def agente_buscador(topico, data_de_hoje):\n",
        "\n",
        "    buscador = Agent(\n",
        "        name=\"agente_buscador\",\n",
        "        model=\"gemini-2.0-flash\",\n",
        "        instruction=\"\"\"\n",
        "          Você é um assistente de pesquisa acadêmica. Sua tarefa é usar a ferramenta de busca (google_search)\n",
        "          para recuperar os artigos e publicações mais recentes e relevantes sobre o tópico abaixo,\n",
        "          focando em trabalhos de pesquisa e lançamentos significativos na área.\n",
        "          Foque em no máximo 10 publicações ou descobertas relevantes, baseando-se na proeminência dos autores,\n",
        "          das revistas/conferências e no impacto potencial na área.\n",
        "          Se um tema tiver poucas publicações recentes ou de alto impacto, pode ser substituído por outro que tenha mais.\n",
        "          Esses lançamentos relevantes devem ser atuais, de no máximo um ano antes da data de hoje,\n",
        "          ou representar avanços significativos mesmo que um pouco mais antigos.\n",
        "          \"\"\",\n",
        "        description=\"Agente que busca informações no Google\",\n",
        "        tools=[google_search]\n",
        "    )\n",
        "\n",
        "    entrada_do_agente_buscador = f\"Tópico: {topico}\\nData de hoje: {data_de_hoje}\"\n",
        "\n",
        "    lancamentos = call_agent(buscador, entrada_do_agente_buscador)\n",
        "    return lancamentos"
      ],
      "metadata": {
        "id": "o8bqIfi_DyH8"
      },
      "execution_count": null,
      "outputs": []
    },
    {
      "cell_type": "code",
      "source": [
        "################################################\n",
        "# --- Agente 2: Planejador de posts --- #\n",
        "################################################\n",
        "def agente_planejador(topico, lancamentos_buscados):\n",
        "    planejador = Agent(\n",
        "        name=\"agente_planejador\",\n",
        "        model=\"gemini-2.0-flash\",\n",
        "        # Inserir as instruções do Agente Planejador #################################################\n",
        "        instruction=\"\"\"\n",
        "        Você é um planejador de conteúdo especializado em artigos para sites, com foco em informações acadêmicas e técnicas para o setor agrícola.\n",
        "        Sua missão é analisar a lista de lançamentos mais recentes e relevantes (fornecida pelo agente buscador) e, usando a ferramenta de busca do Google (google_search), criar um plano detalhado para um artigo.\n",
        "        O artigo deve ser tecnicamente preciso e embasado em pesquisa, mas escrito de forma clara, didática e suave, para que agricultores possam compreender facilmente.\n",
        "        Para cada lançamento, você deve:\n",
        "        1. Identificar os pontos mais relevantes e impactantes para a prática agrícola.\n",
        "        2. Usar o google_search para aprofundar o conhecimento sobre o tema, buscando exemplos práticos, estudos de caso ou aplicações no campo.\n",
        "        3. Pensar em como traduzir a informação técnica para uma linguagem simples e relevante para o dia a dia do agricultor. Evite jargões excessivos.\n",
        "        4. Ao final, escolha o tema mais relevante e com maior potencial de impacto prático para os agricultores, baseado em suas pesquisas.\n",
        "        5. Para o tema escolhido, retorne de forma que um artigo será escrito posteriormente.:\n",
        "            - O título sugerido para o artigo (claro e atrativo para agricultores).\n",
        "            - Os pontos técnicos-chave que serão abordados.\n",
        "            - Os pontos práticos e benefícios para o agricultor (explicados de forma simples).\n",
        "            - Um plano detalhado com os tópicos e a sequência que o artigo deve seguir para garantir a fluidez e compreensão pelo público-alvo.\n",
        "        \"\"\",\n",
        "        description=\"Agente que planeja posts\",\n",
        "        tools=[google_search]\n",
        "    )\n",
        "\n",
        "    entrada_do_agente_planejador = f\"Tópico:{topico}\\nLançamentos buscados: {lancamentos_buscados}\"\n",
        "    # Executa o agente\n",
        "    plano_do_post = call_agent(planejador, entrada_do_agente_planejador)\n",
        "    return plano_do_post"
      ],
      "metadata": {
        "id": "y3VO1uo5_ghO"
      },
      "execution_count": null,
      "outputs": []
    },
    {
      "cell_type": "code",
      "source": [
        "######################################\n",
        "# --- Agente 3: Redator do Post --- #\n",
        "######################################\n",
        "def agente_redator(topico, plano_de_post):\n",
        "    redator = Agent(\n",
        "        name=\"agente_redator\",\n",
        "        model=\"gemini-2.0-flash\",\n",
        "        # Inserir as instruções do Agente Redator ################################################\n",
        "        instruction=\"\"\"\n",
        "        Você é um Redator Especializado em Artigos para Sites, com foco em temas técnicos e acadêmicos para o setor agrícola.\n",
        "        Sua tarefa é usar o plano detalhado fornecido pelo Agente Planejador para escrever um rascunho de artigo completo sobre o tema indicado.\n",
        "        O artigo deve ser tecnicamente preciso e embasado em pesquisa, utilizando os pontos técnicos-chave e os pontos práticos/benefícios descritos no plano.\n",
        "        É crucial que a linguagem seja clara, didática e suave, traduzindo conceitos complexos para que agricultores possam entender facilmente. Evite jargões excessivos ou explique-os de forma simples.\n",
        "        O artigo deve seguir a estrutura e a sequência de tópicos indicadas no plano.\n",
        "        Busque criar um texto fluido e interessante, conectando a informação técnica com a realidade do dia a dia no campo.\n",
        "        Incluir 2 a 4 hashtags no final\n",
        "        \"\"\",\n",
        "        description=\"Agente redator de posts engajadores para Instagram\"\n",
        "    )\n",
        "    entrada_do_agente_redator = f\"Tópico: {topico}\\nPlano de post: {plano_de_post}\"\n",
        "    # Executa o agente\n",
        "    rascunho = call_agent(redator, entrada_do_agente_redator)\n",
        "    return rascunho"
      ],
      "metadata": {
        "id": "uOqlg2TRLVh1"
      },
      "execution_count": null,
      "outputs": []
    },
    {
      "cell_type": "code",
      "source": [
        "##########################################\n",
        "# --- Agente 4: Revisor de Qualidade --- #\n",
        "##########################################\n",
        "def agente_revisor(topico, rascunho_gerado):\n",
        "    revisor = Agent(\n",
        "        name=\"agente_revisor\",\n",
        "        model=\"gemini-2.0-flash\",\n",
        "        # Inserir as instruções do Agente Revisor ################################################\n",
        "        instruction=\"\"\"\n",
        "        Você é um Editor e Revisor de Conteúdo meticuloso, especializado em artigos técnicos para sites com foco no setor agrícola.\n",
        "        Sua tarefa é revisar o rascunho de artigo sobre o tópico indicado, verificando clareza, correção técnica, didática, fluidez da leitura e se a linguagem está adequada para agricultores.\n",
        "        Certifique-se de que a informação técnica está correta, mas apresentada de forma compreensível, evitando jargões desnecessários ou explicando-os de maneira simples.\n",
        "        Verifique se a estrutura segue o plano e se a conexão entre a teoria e a prática no campo está clara.\n",
        "        Se o rascunho estiver bom e pronto para ser publicado no site, responda apenas 'O rascunho do artigo está ótimo e pronto para publicar!'.\n",
        "        Caso haja problemas, aponte-os de forma clara e sugira melhorias detalhadas.\n",
        "        \"\"\",\n",
        "        description=\"Agente revisor de post para redes sociais.\"\n",
        "    )\n",
        "    entrada_do_agente_revisor = f\"Tópico: {topico}\\nRascunho: {rascunho_gerado}\"\n",
        "    # Executa o agente\n",
        "    texto_revisado = call_agent(revisor, entrada_do_agente_revisor)\n",
        "    return texto_revisado"
      ],
      "metadata": {
        "id": "_aTb1SdkLeT6"
      },
      "execution_count": null,
      "outputs": []
    },
    {
      "cell_type": "code",
      "source": [
        "data_de_hoje = date.today().strftime(\"%d/%m/%Y\")\n",
        "\n",
        "print(\"🚀 Iniciando o Sistema de Criação de Posts para Instagram com 4 Agentes 🚀\")\n",
        "\n",
        "# --- Obter o Tópico do Usuário ---\n",
        "topico = input(\"❓ Por favor, digite o TÓPICO sobre o qual você quer criar o post de tendências: \")\n",
        "\n",
        "# Inserir lógica do sistema de agentes ################################################\n",
        "if not topico:\n",
        "    print(\"Você esqueceu de digitar o tópico!\")\n",
        "else:\n",
        "    print(f\"Maravilha! Vamos então criar o post sobre novidades em {topico}\")\n",
        "\n",
        "    lancamentos_buscados = agente_buscador(topico, data_de_hoje)\n",
        "    print(\"\\n--- 📝 Resultado do Agente 1 (Buscador) ---\\n\")\n",
        "    display(to_markdown(lancamentos_buscados))\n",
        "    print(\"--------------------------------------------------------------\")\n",
        "\n",
        "    plano_de_post = agente_planejador(topico, lancamentos_buscados)\n",
        "    print(\"\\n--- 📝 Resultado do Agente 2 (Planejador) ---\\n\")\n",
        "    display(to_markdown(plano_de_post))\n",
        "    print(\"--------------------------------------------------------------\")\n",
        "\n",
        "    rascunho_de_post = agente_redator(topico, plano_de_post)\n",
        "    print(\"\\n--- 📝 Resultado do Agente 3 (Redator) ---\\n\")\n",
        "    display(to_markdown(rascunho_de_post))\n",
        "    print(\"--------------------------------------------------------------\")\n",
        "\n",
        "    post_final = agente_revisor(topico, rascunho_de_post)\n",
        "    print(\"\\n--- 📝 Resultado do Agente 4 (Revisor) ---\\n\")\n",
        "    display(to_markdown(post_final))\n",
        "    print(\"--------------------------------------------------------------\")"
      ],
      "metadata": {
        "colab": {
          "base_uri": "https://localhost:8080/",
          "height": 1000
        },
        "id": "6xzI6LKzxxnN",
        "outputId": "5afeba79-aec3-4665-8443-82b40e87a667"
      },
      "execution_count": null,
      "outputs": [
        {
          "output_type": "stream",
          "name": "stdout",
          "text": [
            "🚀 Iniciando o Sistema de Criação de Posts para Instagram com 4 Agentes 🚀\n",
            "❓ Por favor, digite o TÓPICO sobre o qual você quer criar o post de tendências: sorgo\n",
            "Maravilha! Vamos então criar o post sobre novidades em sorgo\n",
            "\n",
            "--- 📝 Resultado do Agente 1 (Buscador) ---\n",
            "\n"
          ]
        },
        {
          "output_type": "display_data",
          "data": {
            "text/plain": [
              "<IPython.core.display.Markdown object>"
            ],
            "text/markdown": "> Ok, aqui estão algumas pesquisas recentes e publicações sobre o sorgo, com foco em trabalhos de pesquisa e lançamentos significativos na área, com foco nos últimos anos e levando em consideração a data de hoje (17 de maio de 2025):\n> \n> \n> Com base nas pesquisas mais recentes, aqui estão alguns destaques e áreas de foco na pesquisa e desenvolvimento de sorgo:\n> \n>  **Avanços na Resiliência à Seca e Melhoramento:**\n> \n>  *   **Mecanismos Moleculares de Resistência à Seca:** A pesquisa liderada por Ana I. Caño-Delgado no CRAG identificou mecanismos moleculares responsáveis pela resistência à seca no sorgo. A equipe descobriu que modificar o receptor BRI1 do sorgo (SbBRI1) pode melhorar significativamente a tolerância à seca nas plantas. Essas descobertas podem levar ao desenvolvimento de culturas resistentes à seca para garantir o abastecimento global de alimentos em face da crescente crise climática. (Fontes: [1], [17], [20], [26])\n>  *   **Ferramentas Moleculares e Métodos de Transformação:** Avanços foram feitos no desenvolvimento de ferramentas moleculares de ponta e métodos eficientes de transformação de sorgo. Uma técnica recém-desenvolvida utiliza *Agrobacterium tumefaciens* para aumentar a eficiência da transformação, permitindo modificações genéticas mais precisas e acelerando o melhoramento do sorgo para variedades aprimoradas. (Fonte: [1], [20])\n>  *   **Melhoramento Auxiliado por Marcadores (MAS):** O melhoramento auxiliado por marcadores está sendo utilizado para desenvolver variedades de sorgo tolerantes a doenças, de alto rendimento e resilientes às mudanças nas condições climáticas. Este método de seleção reduziu os ciclos de melhoramento para lançar novas variedades resilientes ao clima. (Fontes: [2], [3], [6], [13])\n> \n>  **Resistência a Doenças e Pragas:**\n> \n>  *   **Resistência à Queda da Lagarta do Exército:** Pesquisadores da Universidade de Nebraska-Lincoln estão avançando na compreensão das defesas naturais do sorgo contra a lagarta-do-exército-do-outono. Foi identificado que o gene *Bmr12* codifica uma enzima (COMT) importante para as defesas naturais da planta. A superexpressão de *Bmr12* aumenta a produção de hormônios e flavonóides, interrompendo o crescimento e desenvolvimento da lagarta-do-exército-do-outono. (Fonte: [8])\n>  *   **Resistência ao Pulgão da Cana-de-açúcar:** Os cientistas identificaram um hormônio vegetal chave, o conjugado auxina/IAA IAA-Asp, que fortalece a autoproteção do sorgo contra a ameaça do pulgão da cana-de-açúcar. Um nível mais alto do hormônio identificado IAA-Asp devido a uma mutação no gene *Bmr12* aumentou a resistência do sorgo. (Fonte: [22])\n>  *   **Identificação de Loci Genéticos para Resistência à Antracnose:** Um estudo identificou loci genéticos chave associados à resistência à antracnose em germoplasmas de sorgo etíopes. Esta descoberta destaca o potencial desses germoplasmas como um recurso valioso para o melhoramento de variedades de sorgo resistentes. (Fonte: [5])\n>  *   **Estratégias Sustentáveis de Gestão de Doenças Fúngicas:** As principais doenças fúngicas que afetam o sorgo incluem antracnose, complexo de bolor de grãos, podridão carbonosa, míldio e ferrugem. A gestão sustentável envolve a utilização de variedades resistentes, rotação de culturas, controle biológico e tecnologias digitais para detecção precoce e gestão de doenças. (Fonte: [27])\n> \n>  **Avanços Genéticos e Genômicos:**\n> \n>  *   **Seleção Genômica (GS):** A seleção genômica está sendo utilizada para melhoramento do sorgo, com foco no treinamento de modelos usando uma variedade de populações de treinamento, como população natural, populações mistas e híbridos de cruzamento de teste. Vários artigos recentes destacaram o potencial da GS para alcançar ganho genético em programas de melhoramento de sorgo. (Fonte: [2])\n>  *   **Recursos Genéticos e Genômicos:** Os esforços contínuos estão focados no aprimoramento dos recursos genéticos, genômicos e de melhoramento do sorgo. As tecnologias de sequenciamento de última geração, como o genotipagem por sequenciamento (GBS), tornaram-se prevalentes para a descoberta de polimorfismos de nucleotídeo único (SNPs) em estudos de mapeamento de características e diversidade do sorgo. (Fontes: [5], [21])\n>  *   **Estudos de Associação Genômica (GWAS):** Os estudos GWAS foram bem-sucedidos na identificação de regiões genômicas ligadas a várias características no sorgo. Esses estudos têm sido fundamentais na identificação de novas associações marcador-característica para importantes características agronômicas, abrindo caminho para avanços nas práticas de melhoramento do sorgo. (Fonte: [21])\n>  *   **Identificação de Genes Candidatos:** A GWAS conduzida em Uganda com uma diversificada amostra de linhagens de melhoramento de sorgo revelou insights significativos sobre as bases genéticas das principais características. Dois SNPs, S6_55680307 no cromossomo 6 e S10_1446937 no cromossomo 10, estão ligados ao rendimento de grãos e estão dentro das sequências codificadoras dos genes candidatos SORBI_3006G207100 e SORBI_3010G017700, respectivamente. (Fonte: [21])\n> \n>  **Novas Variedades e Híbridos:**\n> \n>  *   **Variedades Tolerantes ao Frio:** O ICRISAT e o SKUAST colaboraram para desenvolver as primeiras variedades de sorgo tolerantes ao frio em Jammu e Caxemira, Índia, com lançamento previsto para 2025. Esta adaptação bem-sucedida desta cultura de terras secas ao clima temperado da região visa aumentar a produção sustentável de gado e melhorar as condições socioeconômicas dos agricultores marginalizados. (Fonte: [14])\n>  *   **Híbridos de Sorgo Doce:** Ensaios de sete variedades híbridas de sorgo doce estão em andamento no Quênia, indicando que os híbridos de sorgo doce superam as variedades locais em rendimento por acre, têm maior teor de açúcar (níveis Brix), repelem pássaros e exibem resistência a pragas como Striga. Esta iniciativa tem como objetivo transformar a agricultura na África Subsaariana, fornecendo uma solução sustentável para os desafios da segurança alimentar e estabelecendo novas oportunidades industriais. (Fonte: [28])\n>  *   **Lançamentos de Variedades na Nigéria:** Na Nigéria, o sistema inovador de Sementes Geridas pela Fazenda e pela Comunidade (FCMSS) levou a uma revolução de sementes, com três variedades de sorgo recém-lançadas—SAMSORG 52, SAMSORG 52 e SAMSORG 53—transformando a paisagem agrícola. Essas variedades estão sendo produzidas localmente, garantindo que os agricultores nas comunidades próximas tenham acesso a sementes adaptadas às suas necessidades. (Fonte: [23])\n>  *   **Testes de Variedades em Madagascar:** Quatro variedades de sorgo aprimoradas da rede Pan-África do GCSM estão sob consideração para registro e lançamento oficial pela agência nacional de controle de sementes de Madagascar, Service Officiel de Controle des Semences (SOC). Duas variedades, Gobiye e 76T1#23, mostraram o melhor desempenho entre as 15 variedades de sorgo testadas em uma ampla gama de ambientes em Madagascar. (Fonte: [11])\n> \n>  **Práticas Agronômicas e Impacto Econômico:**\n> \n>  *   **Benefícios da Rotação de Culturas:** O sorgo oferece benefícios substanciais quando usado em rotações de culturas com algodão, soja e até mesmo milho. A rotação de culturas pode melhorar a saúde do solo, quebrar os ciclos de doenças e aumentar os rendimentos. (Fontes: [16], [18])\n>  *   **Custos de Sementes e Eficiência de Insumos:** O sorgo surge como uma opção atraente para a época de plantio de 2025, oferecendo vantagens como baixos custos de insumos, benefícios de rotação de culturas e resiliência à seca. As sementes de sorgo são significativamente menos dispendiosas em comparação com outras culturas, com custos que variam de US$ 6 a US$ 19 por acre, dependendo da taxa de semeadura e dos tratamentos de sementes desejados. (Fonte: [16])\n>  *   **Produção e Tendências Globais:** Em 2024, a produção mundial de sorgo aproximou-se de 61,3 milhões de toneladas, um aumento de 4,3% em relação a 2023 (58,8 milhões de toneladas). A África continua sendo a maior produtora de sorgo, com 28,3 milhões de toneladas. A procura de sorgo no mercado alimentar aumentou 5,9%, atingindo 30 milhões de toneladas em 2024. (Fonte: [19])\n>  *   **Desafios nas Exportações:** Os preços do sorgo têm tradicionalmente acompanhado os preços do milho, ajustados por um prémio ou desconto ditado principalmente pela procura das exportações. No entanto, as tendências recentes revelam um declínio nos prémios do sorgo, impulsionado pela redução das exportações, particularmente para a China. (Fonte: [9])\n> \n>  **Tecnologias Emergentes:**\n> \n>  *   **Inteligência Artificial (IA) para Melhoramento:** Uma nova parceria da indústria está aproveitando a tecnologia de IA de ponta para melhorar o melhoramento do sorgo para o benefício dos produtores australianos. A tecnologia guiada por IA, FastStack, é usada para identificar os melhores segmentos de cromossomos para um traço e, em seguida, identificar o caminho de cruzamento ideal para combiná-los. (Fonte: [12])\n>  *   **Fenotipagem de Alto Rendimento:** Os recentes avanços incluem novos algoritmos de aprendizagem automática, edição de genes, seleção genómica, avanço rápido da geração e reciclagem de materiais de elite, juntamente com ferramentas de fenotipagem de alto rendimento, tais como imagens baseadas em drones e satélites e outras técnicas de reprodução rápida, aumentaram a precisão, velocidade e exatidão do desenvolvimento de novas variedades de culturas. (Fontes: [3], [6])\n> \n>  Esta visão geral destaca os esforços multifacetados para melhorar a produção, a resiliência e a utilização do sorgo, abordando os desafios da segurança alimentar, das alterações climáticas e da sustentabilidade agrícola.\n> \n"
          },
          "metadata": {}
        },
        {
          "output_type": "stream",
          "name": "stdout",
          "text": [
            "--------------------------------------------------------------\n",
            "\n",
            "--- 📝 Resultado do Agente 2 (Planejador) ---\n",
            "\n"
          ]
        },
        {
          "output_type": "display_data",
          "data": {
            "text/plain": [
              "<IPython.core.display.Markdown object>"
            ],
            "text/markdown": "> Com base nos lançamentos e pesquisas recentes sobre sorgo, o tema com maior potencial de impacto prático para os agricultores é o **Avanço na Resiliência à Seca e Melhoramento Genético do Sorgo**. A capacidade de cultivar variedades de sorgo mais resistentes à seca é crucial para garantir a segurança alimentar em um cenário de mudanças climáticas e escassez de água.\n> \n> **Título Sugerido:** \"Sorgho Antisequía: Cultive com Confiança Mesmo em Tempos Secos\"\n> \n> **Pontos Técnicos-Chave a Serem Abordados:**\n> \n> *   **Mecanismos Moleculares de Resistência à Seca:** Explicar como a modificação do receptor BRI1 (SbBRI1) no sorgo aumenta a tolerância à seca, com base na pesquisa de Ana I. Caño-Delgado.\n> *   **Melhoramento Auxiliado por Marcadores (MAS):** Detalhar como o MAS é usado para desenvolver variedades de sorgo tolerantes a doenças, de alto rendimento e resilientes às mudanças climáticas.\n> *   **Custos de Sementes e Eficiência de Insumos:** Comparar os custos de sementes de sorgo com outras culturas e destacar os benefícios da rotação de culturas com sorgo.\n> *   **Novas Variedades e Híbridos:** apresentar as novas variedades tolerantes ao frio, os híbridos de sorgo doce e os lançamentos de variedades na Nigéria e os testes em Madagascar\n> \n> **Pontos Práticos e Benefícios para o Agricultor (Linguagem Simples):**\n> \n> *   **Segurança em Tempos de Seca:** Variedades de sorgo mais resistentes à seca garantem colheitas mesmo com menos água, protegendo o investimento do agricultor.\n> *   **Menos Preocupação com Doenças:** Variedades tolerantes a doenças reduzem a necessidade de pesticidas, economizando dinheiro e protegendo o meio ambiente.\n> *   **Mais Produtividade:** Variedades de alto rendimento significam mais grãos colhidos por hectare, aumentando os lucros do agricultor.\n> *   **Economia:** O sorgo possui sementes mais baratas comparado a outras culturas\n> \n> **Plano Detalhado do Artigo:**\n> \n> 1.  **Introdução:**\n>     *   Apresentar o sorgo como uma cultura versátil e importante para a segurança alimentar.\n>     *   Destacar a crescente preocupação com a seca e a importância de variedades resistentes.\n> 2.  **O Que a Ciência Diz: Resistência à Seca em Nível Molecular**\n>     *   Explicar de forma simples como a pesquisa de Ana I. Caño-Delgado identificou mecanismos moleculares que tornam o sorgo mais resistente à seca.\n>     *   Usar analogias para facilitar a compreensão (ex: comparar o receptor BRI1 a uma \"chave\" que abre a porta para a resistência à seca).\n> 3.  **Melhoramento Genético: A Chave para Variedades Mais Fortes**\n>     *   Explicar o que é Melhoramento Auxiliado por Marcadores (MAS) e como ele é usado para criar variedades de sorgo com múltiplas vantagens (resistência à seca, doenças, alto rendimento).\n>     *   Apresentar exemplos de variedades desenvolvidas com MAS.\n> 4.  **Casos de Sucesso: Agricultores Já Colhendo os Frutos**\n>     *   Apresentar as variedades tolerantes ao frio e os híbridos de sorgo doce e os lançamentos de variedades na Nigéria e os testes em Madagascar\n> 5.  **Como o Sorgo Pode Ajudar no Seu Bolso**\n>     *   Mostrar como o sorgo, com seus baixos custos de sementes e eficiência de insumos, pode ser uma opção mais econômica para o agricultor.\n> 6.  **Conclusão:**\n>     *   Reforçar a importância do sorgo como cultura resiliente e promissora para o futuro da agricultura.\n>     *   Incentivar os agricultores a buscar informações sobre as novas variedades e tecnologias disponíveis.\n>     *   Frisar que o investimento em sorgo resistente à seca é um investimento na segurança do seu negócio e na segurança alimentar da comunidade.\n> \n> \n> Ótimo! Com base nas informações adicionais coletadas, podemos refinar ainda mais o plano do artigo.\n> \n> **Título Sugerido:** \"Sorgho Antisequía: Cultive com Confiança Mesmo em Tempos Secos\"\n> \n> **Pontos Técnicos-Chave a Serem Abordados:**\n> \n> *   **Mecanismos Moleculares de Resistência à Seca:** Explicar como a modificação do receptor BRI1 (SbBRI1) no sorgo aumenta a tolerância à seca, com base na pesquisa de Ana I. Caño-Delgado.\n> *   **Melhoramento Auxiliado por Marcadores (MAS):** Detalhar como o MAS é usado para desenvolver variedades de sorgo tolerantes a doenças, de alto rendimento e resilientes às mudanças climáticas.\n> *   **Novas Variedades e Híbridos:** Apresentar as novas variedades tolerantes ao frio desenvolvidas pelo ICRISAT e SKUAST, os híbridos de sorgo doce em testes no Quênia, os lançamentos de variedades na Nigéria (SAMSORG 52, SAMSORG 52 e SAMSORG 53) e os testes de variedades em Madagascar (Gobiye e 76T1#23).\n> *   **Custos de Sementes e Eficiência de Insumos:** Comparar os custos de sementes de sorgo (R$ 283 por hectare em 2023, segundo a Kynetec Brasil) com outras culturas e destacar os benefícios da rotação de culturas com sorgo. Mencionar que o sorgo necessita de menor quantidade de água para desenvolver suas funções biológicas (330kg de água para produzir 1kg de matéria seca, comparado a 370kg para o milho e 500kg para o trigo).\n> \n> **Pontos Práticos e Benefícios para o Agricultor (Linguagem Simples):**\n> \n> *   **Segurança em Tempos de Seca:** Variedades de sorgo mais resistentes à seca garantem colheitas mesmo com menos água, protegendo o investimento do agricultor (mencionar o sistema radicular mais profundo do sorgo em comparação com o milho).\n> *   **Menos Preocupação com Doenças:** Variedades tolerantes a doenças reduzem a necessidade de pesticidas, economizando dinheiro e protegendo o meio ambiente.\n> *   **Mais Produtividade:** Variedades de alto rendimento significam mais grãos colhidos por hectare, aumentando os lucros do agricultor (a produtividade média do sorgo foi de 3.225 kg/ha na safra 2023/2024, com relatos de até 6.000 kg/ha em lavouras bem manejadas).\n> *   **Economia:** O sorgo possui sementes mais baratas comparado a outras culturas, além de demandar menos fertilizantes e água, reduzindo os custos de produção (o custo médio de produção do sorgo foi estimado em cerca de R$ 2.500 por hectare em 2023, contra R$ 4.000 do milho).\n> \n> **Plano Detalhado do Artigo:**\n> \n> 1.  **Introdução:**\n>     *   Apresentar o sorgo como uma cultura versátil e importante para a segurança alimentar.\n>     *   Destacar a crescente preocupação com a seca e a importância de variedades resistentes.\n>     *   Mencionar que o sorgo é o quinto cereal mais produzido no mundo e que sua produção está em constante crescimento no Brasil.\n> 2.  **O Que a Ciência Diz: Resistência à Seca em Nível Molecular**\n>     *   Explicar de forma simples como a pesquisa de Ana I. Caño-Delgado identificou mecanismos moleculares que tornam o sorgo mais resistente à seca.\n>     *   Usar analogias para facilitar a compreensão (ex: comparar o receptor BRI1 a uma \"chave\" que abre a porta para a resistência à seca).\n> 3.  **Melhoramento Genético: A Chave para Variedades Mais Fortes**\n>     *   Explicar o que é Melhoramento Auxiliado por Marcadores (MAS) e como ele é usado para criar variedades de sorgo com múltiplas vantagens (resistência à seca, doenças, alto rendimento).\n>     *   Apresentar exemplos de variedades desenvolvidas com MAS, como as cultivares da Embrapa.\n> 4.  **Novas Variedades para um Futuro Mais Seguro**\n>     *   Apresentar as novas variedades tolerantes ao frio desenvolvidas pelo ICRISAT e SKUAST, os híbridos de sorgo doce em testes no Quênia, os lançamentos de variedades na Nigéria (SAMSORG 52, SAMSORG 52 e SAMSORG 53) e os testes de variedades em Madagascar (Gobiye e 76T1#23).\n> 5.  **Casos de Sucesso: Agricultores Já Colhendo os Frutos**\n>     *   Apresentar casos de agricultores que já estão cultivando variedades de sorgo resistentes à seca e obtendo bons resultados (buscar exemplos na Embrapa e em outras fontes).\n>     *   Mostrar fotos e depoimentos de agricultores.\n> 6.  **Como o Sorgo Pode Ajudar no Seu Bolso**\n>     *   Mostrar como o sorgo, com seus baixos custos de sementes e eficiência de insumos, pode ser uma opção mais econômica para o agricultor.\n>     *   Comparar os custos de produção do sorgo com os do milho e da soja.\n>     *   Mencionar que o sorgo pode ser uma alternativa para a produção de etanol no período de entressafra da cana-de-açúcar.\n> 7.  **Conclusão:**\n>     *   Reforçar a importância do sorgo como cultura resiliente e promissora para o futuro da agricultura.\n>     *   Incentivar os agricultores a buscar informações sobre as novas variedades e tecnologias disponíveis.\n>     *   Frisar que o investimento em sorgo resistente à seca é um investimento na segurança do seu negócio e na segurança alimentar da comunidade.\n> \n> Este plano detalhado, com os pontos técnicos, práticos e o plano de escrita, fornecerá um artigo completo e informativo para os agricultores sobre o sorgo e sua resistência à seca.\n> \n"
          },
          "metadata": {}
        },
        {
          "output_type": "stream",
          "name": "stdout",
          "text": [
            "--------------------------------------------------------------\n",
            "\n",
            "--- 📝 Resultado do Agente 3 (Redator) ---\n",
            "\n"
          ]
        },
        {
          "output_type": "display_data",
          "data": {
            "text/plain": [
              "<IPython.core.display.Markdown object>"
            ],
            "text/markdown": "> ## Sorgo Antisequía: Cultive com Confiança Mesmo em Tempos Secos\n> \n> O sorgo, o quinto cereal mais produzido no mundo, vem ganhando cada vez mais destaque no Brasil e no mundo, e não é à toa! Essa cultura versátil é uma grande aliada da segurança alimentar, especialmente em tempos de seca e mudanças climáticas. Mas como o sorgo consegue ser tão resistente? E como você, agricultor, pode se beneficiar disso? Vamos descobrir juntos!\n> \n> **O Sorgo: Um Campeão de Resiliência**\n> \n> A seca é uma preocupação constante para quem vive da terra. Perdas na lavoura significam prejuízo no bolso e insegurança alimentar para a população. É aí que o sorgo entra em cena, como uma alternativa inteligente e resiliente.\n> \n> **O Que a Ciência Diz: Resistência à Seca em Nível Molecular**\n> \n> Pesquisadores do mundo todo têm se dedicado a entender os segredos do sorgo. Um estudo liderado por Ana I. Caño-Delgado revelou que a chave da resistência à seca pode estar em um receptor chamado BRI1 (SbBRI1). Imagine que esse receptor é como uma \"chave\" que abre a porta para a planta resistir à falta de água. Ao modificar esse receptor, os cientistas conseguiram aumentar a tolerância do sorgo à seca.\n> \n> **Melhoramento Genético: A Chave para Variedades Mais Fortes**\n> \n> Mas não para por aí! O Melhoramento Auxiliado por Marcadores (MAS) é outra ferramenta poderosa que os pesquisadores utilizam. Com o MAS, é possível identificar e selecionar genes que conferem características desejáveis ao sorgo, como resistência à seca e a doenças, além de alto rendimento. É como se os cientistas pudessem \"escolher a dedo\" as melhores características para cada variedade. No Brasil, a Embrapa tem se destacado no desenvolvimento de cultivares de sorgo com MAS, adaptadas às diferentes regiões do país.\n> \n> **Novas Variedades para um Futuro Mais Seguro**\n> \n> E as novidades não param de surgir! O ICRISAT e a SKUAST desenvolveram novas variedades tolerantes ao frio, ideais para regiões com invernos rigorosos. No Quênia, estão sendo testados híbridos de sorgo doce, que podem ser utilizados na produção de açúcar e etanol. Na Nigéria, foram lançadas as variedades SAMSORG 52, SAMSORG 52 e SAMSORG 53, com alto potencial produtivo. E em Madagascar, as variedades Gobiye e 76T1#23 estão passando por testes para avaliar sua adaptação ao clima local.\n> \n> **Casos de Sucesso: Agricultores Já Colhendo os Frutos**\n> \n> Muitos agricultores já estão cultivando variedades de sorgo resistentes à seca e colhendo os frutos desse investimento. Eles relatam que, mesmo em períodos de estiagem, a produção de sorgo se mantém estável, garantindo o sustento de suas famílias e a segurança alimentar da comunidade.\n> \n> **Como o Sorgo Pode Ajudar no Seu Bolso**\n> \n> Além de ser resistente à seca, o sorgo também é amigo do seu bolso! As sementes de sorgo são mais baratas do que as de outras culturas, como o milho e a soja. Segundo dados da Kynetec Brasil, o custo de sementes de sorgo foi de R$ 283 por hectare em 2023, bem abaixo de outras culturas. Além disso, o sorgo precisa de menos água para se desenvolver (330kg de água para produzir 1kg de matéria seca, comparado a 370kg para o milho e 500kg para o trigo) e demanda menos fertilizantes, o que reduz ainda mais os custos de produção. Para se ter uma ideia, o custo médio de produção do sorgo foi estimado em cerca de R$ 2.500 por hectare em 2023, contra R$ 4.000 do milho. A produtividade média do sorgo foi de 3.225 kg/ha na safra 2023/2024, com relatos de até 6.000 kg/ha em lavouras bem manejadas. Sem contar que o sorgo possui um sistema radicular mais profundo que o do milho, o que permite que ele busque água em camadas mais profundas do solo. O sorgo ainda pode ser uma alternativa para a produção de etanol no período de entressafra da cana-de-açúcar.\n> \n> **Conclusão**\n> \n> O sorgo é muito mais do que um simples cereal. É uma cultura resiliente, econômica e promissora para o futuro da agricultura. Ao investir em variedades de sorgo resistentes à seca, você está investindo na segurança do seu negócio e na segurança alimentar da sua comunidade. Busque informações sobre as novas variedades e tecnologias disponíveis e descubra como o sorgo pode transformar a sua lavoura!\n> \n> #SorgoAntisequía #AgriculturaResiliente #SegurançaAlimentar\n> \n"
          },
          "metadata": {}
        },
        {
          "output_type": "stream",
          "name": "stdout",
          "text": [
            "--------------------------------------------------------------\n",
            "\n",
            "--- 📝 Resultado do Agente 4 (Revisor) ---\n",
            "\n"
          ]
        },
        {
          "output_type": "display_data",
          "data": {
            "text/plain": [
              "<IPython.core.display.Markdown object>"
            ],
            "text/markdown": "> O rascunho do artigo está ótimo e pronto para publicar!\n"
          },
          "metadata": {}
        },
        {
          "output_type": "stream",
          "name": "stdout",
          "text": [
            "--------------------------------------------------------------\n"
          ]
        }
      ]
    }
  ]
}